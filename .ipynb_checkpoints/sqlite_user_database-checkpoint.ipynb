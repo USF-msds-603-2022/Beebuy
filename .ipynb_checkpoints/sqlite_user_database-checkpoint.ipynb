{
 "cells": [
  {
   "cell_type": "code",
   "execution_count": 7,
   "id": "950bb98f",
   "metadata": {
    "ExecuteTime": {
     "end_time": "2022-05-19T04:58:18.158427Z",
     "start_time": "2022-05-19T04:58:18.154414Z"
    }
   },
   "outputs": [],
   "source": [
    "import sqlite3\n",
    "con = sqlite3.connect('./data.db')\n",
    "cur = con.cursor()"
   ]
  },
  {
   "cell_type": "code",
   "execution_count": 8,
   "id": "045e5139",
   "metadata": {
    "ExecuteTime": {
     "end_time": "2022-05-19T04:58:18.523773Z",
     "start_time": "2022-05-19T04:58:18.519954Z"
    }
   },
   "outputs": [
    {
     "name": "stdout",
     "output_type": "stream",
     "text": [
      "(2, 'yoli', 'ywu175@dons.usfca.edu', 'pbkdf2:sha256:260000$i2JcdmlEryAgNLm0$f2a7065f26f46a2d1207bfcee06271dbf8c701b024320d1b3e7eb1b487f733fe')\n",
      "(3, 'test', 'test@gmail.com', 'pbkdf2:sha256:260000$pVFZ49GTgHnOIoB2$0dec1880bd002b0b30451d1deee201ea4fd704c835f842825ae1e867e2ee0069')\n"
     ]
    }
   ],
   "source": [
    "for row in cur.execute('SELECT * FROM user'):\n",
    "    print(row)"
   ]
  },
  {
   "cell_type": "code",
   "execution_count": 9,
   "id": "f96da67a",
   "metadata": {
    "ExecuteTime": {
     "end_time": "2022-05-19T04:58:19.230279Z",
     "start_time": "2022-05-19T04:58:19.226722Z"
    }
   },
   "outputs": [],
   "source": [
    "cur.execute('DELETE FROM user WHERE username=\"test\"')\n",
    "con.commit()"
   ]
  },
  {
   "cell_type": "code",
   "execution_count": 10,
   "id": "8b890522",
   "metadata": {
    "ExecuteTime": {
     "end_time": "2022-05-19T04:58:19.872135Z",
     "start_time": "2022-05-19T04:58:19.867958Z"
    }
   },
   "outputs": [
    {
     "name": "stdout",
     "output_type": "stream",
     "text": [
      "(2, 'yoli', 'ywu175@dons.usfca.edu', 'pbkdf2:sha256:260000$i2JcdmlEryAgNLm0$f2a7065f26f46a2d1207bfcee06271dbf8c701b024320d1b3e7eb1b487f733fe')\n"
     ]
    }
   ],
   "source": [
    "for row in cur.execute('SELECT * FROM user'):\n",
    "    print(row)"
   ]
  },
  {
   "cell_type": "code",
   "execution_count": 11,
   "id": "9f26c51b",
   "metadata": {
    "ExecuteTime": {
     "end_time": "2022-05-19T04:58:20.592027Z",
     "start_time": "2022-05-19T04:58:20.589396Z"
    }
   },
   "outputs": [],
   "source": [
    "cur.close()"
   ]
  },
  {
   "cell_type": "code",
   "execution_count": 6,
   "id": "711dcd26",
   "metadata": {
    "ExecuteTime": {
     "end_time": "2022-05-19T04:58:10.536160Z",
     "start_time": "2022-05-19T04:58:10.533797Z"
    }
   },
   "outputs": [],
   "source": [
    "# !flask shell\n",
    "# from app import db\n",
    "# db.drop_all()\n",
    "# db.create_all()\n",
    "# exit()\n",
    "# !flask run"
   ]
  },
  {
   "cell_type": "code",
   "execution_count": null,
   "id": "69d90786",
   "metadata": {},
   "outputs": [],
   "source": []
  }
 ],
 "metadata": {
  "kernelspec": {
   "display_name": "Python 3 (ipykernel)",
   "language": "python",
   "name": "python3"
  },
  "language_info": {
   "codemirror_mode": {
    "name": "ipython",
    "version": 3
   },
   "file_extension": ".py",
   "mimetype": "text/x-python",
   "name": "python",
   "nbconvert_exporter": "python",
   "pygments_lexer": "ipython3",
   "version": "3.8.11"
  }
 },
 "nbformat": 4,
 "nbformat_minor": 5
}
