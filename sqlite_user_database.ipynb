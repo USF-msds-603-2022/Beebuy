{
 "cells": [
  {
   "cell_type": "code",
   "execution_count": 5,
   "id": "950bb98f",
   "metadata": {
    "ExecuteTime": {
     "end_time": "2022-04-26T16:46:01.358212Z",
     "start_time": "2022-04-26T16:46:01.354782Z"
    }
   },
   "outputs": [],
   "source": [
    "import sqlite3\n",
    "con = sqlite3.connect('./data.db')\n",
    "cur = con.cursor()"
   ]
  },
  {
   "cell_type": "code",
   "execution_count": 6,
   "id": "045e5139",
   "metadata": {
    "ExecuteTime": {
     "end_time": "2022-04-26T16:46:01.864912Z",
     "start_time": "2022-04-26T16:46:01.860787Z"
    }
   },
   "outputs": [
    {
     "name": "stdout",
     "output_type": "stream",
     "text": [
      "(2, 'yoli', 'yoliwu@outlook.com', 'pbkdf2:sha256:260000$7SCZLp4j8MXit0k8$bd3af81984b56fc471a127f745475d26087adde5f75f3f234e22ba8df96544c3')\n",
      "(3, 'test', 'test@gmail.com', 'pbkdf2:sha256:260000$Gmz5V9GzYRBjFcOD$c4794daa99c92c8d31fa2c78bfcdc315086de68b17610ca5ff5958ab077bebfc')\n"
     ]
    }
   ],
   "source": [
    "for row in cur.execute('SELECT * FROM user'):\n",
    "    print(row)"
   ]
  },
  {
   "cell_type": "code",
   "execution_count": 7,
   "id": "f96da67a",
   "metadata": {
    "ExecuteTime": {
     "end_time": "2022-04-26T16:46:14.007654Z",
     "start_time": "2022-04-26T16:46:14.003493Z"
    }
   },
   "outputs": [],
   "source": [
    "cur.execute('DELETE FROM user WHERE username=\"test\"')\n",
    "con.commit()"
   ]
  },
  {
   "cell_type": "code",
   "execution_count": 8,
   "id": "8b890522",
   "metadata": {
    "ExecuteTime": {
     "end_time": "2022-04-26T16:46:15.159343Z",
     "start_time": "2022-04-26T16:46:15.155963Z"
    }
   },
   "outputs": [
    {
     "name": "stdout",
     "output_type": "stream",
     "text": [
      "(2, 'yoli', 'yoliwu@outlook.com', 'pbkdf2:sha256:260000$7SCZLp4j8MXit0k8$bd3af81984b56fc471a127f745475d26087adde5f75f3f234e22ba8df96544c3')\n"
     ]
    }
   ],
   "source": [
    "for row in cur.execute('SELECT * FROM user'):\n",
    "    print(row)"
   ]
  },
  {
   "cell_type": "code",
   "execution_count": 9,
   "id": "9f26c51b",
   "metadata": {
    "ExecuteTime": {
     "end_time": "2022-04-26T16:46:18.666708Z",
     "start_time": "2022-04-26T16:46:18.663923Z"
    }
   },
   "outputs": [],
   "source": [
    "cur.close()"
   ]
  },
  {
   "cell_type": "code",
   "execution_count": 22,
   "id": "711dcd26",
   "metadata": {
    "ExecuteTime": {
     "end_time": "2022-04-26T16:39:22.247609Z",
     "start_time": "2022-04-26T16:39:22.245152Z"
    }
   },
   "outputs": [],
   "source": [
    "# !flask shell\n",
    "# from app import db\n",
    "# db.drop_all()\n",
    "# db.create_all()\n",
    "# exit()\n",
    "# !flask run"
   ]
  },
  {
   "cell_type": "code",
   "execution_count": null,
   "id": "69d90786",
   "metadata": {},
   "outputs": [],
   "source": []
  }
 ],
 "metadata": {
  "kernelspec": {
   "display_name": "Python 3",
   "language": "python",
   "name": "python3"
  },
  "language_info": {
   "codemirror_mode": {
    "name": "ipython",
    "version": 3
   },
   "file_extension": ".py",
   "mimetype": "text/x-python",
   "name": "python",
   "nbconvert_exporter": "python",
   "pygments_lexer": "ipython3",
   "version": "3.8.11"
  }
 },
 "nbformat": 4,
 "nbformat_minor": 5
}
